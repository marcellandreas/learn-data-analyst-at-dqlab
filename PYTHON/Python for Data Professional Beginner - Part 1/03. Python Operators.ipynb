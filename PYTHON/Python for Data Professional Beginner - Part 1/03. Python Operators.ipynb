{
 "cells": [
  {
   "cell_type": "markdown",
   "metadata": {},
   "source": [
    "\n",
    "**Operator arithmetic** digunakan pada tipe `data numerik`, untuk melakukan operasi matematika sederhana yang terdiri atas:\n",
    "| Simbol Operator | Keterangan                          | Contoh                            |\n",
    "|-----------------|-------------------------------------|-----------------------------------|\n",
    "| +               | Penambahan                          | 3 + 2 = 5                        |\n",
    "| -               | Pengurangan                         | 4 - 2 = 2                        |\n",
    "| *               | Perkalian                           | 3 * 2 = 6                        |\n",
    "| /               | Pembagian                           | 3 / 2 = 1.5                      |\n",
    "| %               | Modulo/sisa bagi                    | 3 % 2 = 1, 8 % 2 = 0             |\n",
    "| **              | Pangkat                             | 3 ** 2 = 9                       |\n",
    "| //              | Pembagian dengan pembulatan ke bawah | 3 // 2 = 1                       |\n"
   ]
  },
  {
   "cell_type": "markdown",
   "metadata": {},
   "source": [
    "**Operator assignment** digunakan untuk mendeklarasikan nilai secara langsung ke suatu variabel.\n",
    "\n",
    "| Simbol Operator | Keterangan                                | Contoh             | Penjelasan                                            |\n",
    "|-----------------|--------------------------------------------|--------------------|------------------------------------------------------|\n",
    "| `+=`            | Penambahan                                 | `x = 3` <br> `x += 2` | Ekivalen dengan `x = x + 2`, akan mengubah nilai x menjadi 5 |\n",
    "| `-=`            | Pengurangan                                | `x = 3` <br> `x -= 2` | Ekivalen dengan `x = x - 2`, akan mengubah nilai x menjadi 1 |\n",
    "| `*=`            | Perkalian                                  | `x = 3` <br> `x *= 2` | Ekivalen dengan `x = x * 2`, akan mengubah nilai x menjadi 6 |\n",
    "| `/=`            | Pembagian                                  | `x = 3` <br> `x /= 2` | Ekivalen dengan `x = x / 2`, akan mengubah nilai x menjadi 1.5 |\n",
    "| `%=`            | Modulo / Sisa bagi                         | `x = 3` <br> `x %= 2` | Ekivalen dengan `x = x % 2`, akan mengubah nilai x menjadi 1 |\n",
    "| `**=`           | Pangkat                                    | `x = 3` <br> `x **= 2` | Ekivalen dengan `x = x ** 2`, akan mengubah nilai x menjadi 9 |\n",
    "| `//=`           | Pembagian dengan pembulatan ke bawah       | `x = 3` <br> `x //= 2` | Ekivalen dengan `x = x // 2`, akan mengubah nilai x menjadi 1 |"
   ]
  },
  {
   "cell_type": "markdown",
   "metadata": {},
   "source": [
    "\n",
    "**Operator comparison** dapat digunakan untuk membandingkan dua buah nilai, berikut merupakan contoh-contoh operator komparasi.\n",
    "\n",
    "| Simbol Operator | Keterangan                          | Contoh                                                                 |\n",
    "|-----------------|-------------------------------------|------------------------------------------------------------------------|\n",
    "| ==              | Persamaan                           | 33 == 33 -> True, 34 == 33 -> False                                    |\n",
    "| !=              | Pertidaksamaan                      | 34 != 33 -> True, 33 != 33 -> False                                    |\n",
    "| >               | Lebih besar dari                    | 34 > 33 -> True, 33 > 34 -> False                                      |\n",
    "| <               | Lebih kecil dari                    | 33 < 34 -> True, 34 < 33 -> False                                      |\n",
    "| >=              | Lebih besar atau sama dengan        | 34 >= 33 -> True, 34 >= 34 -> True, 33 >= 34 -> False                  |\n",
    "| <=              | Lebih kecil atau sama dengan        | 33 <= 34 -> True, 33 <= 33 -> True, 34 <= 33 -> False                  |\n"
   ]
  },
  {
   "cell_type": "markdown",
   "metadata": {},
   "source": [
    "**Operator logical** digunakan untuk menggabungkan beberapa nilai kebenaran atas suatu statemen logika.\n",
    "\n",
    "| Simbol Operator | Keterangan                                                                 | Contoh                                      | Penjelasan                                                                 |\n",
    "|-----------------|-----------------------------------------------------------------------------|---------------------------------------------|-----------------------------------------------------------------------------|\n",
    "| `and`           | Dan - menerima dua nilai kebenaran dan mengembalikan nilai benar jika keduanya benar | `x = 5` <br> `x >= 1 and x <= 10`           | Akan mengembalikan nilai `True` karena kedua kondisi terpenuhi             |\n",
    "|                 |                                                                             | `x = 5` <br> `x >= 1 and x <= 4`            | Akan mengembalikan nilai `False` karena hanya satu kondisi terpenuhi       |\n",
    "| `or`            | Atau - menerima dua nilai kebenaran dan mengembalikan nilai benar jika salah satu benar | `x = 3` <br> `x >= 1 or x <= 2`             | Akan mengembalikan nilai `True` karena kondisi pertama terpenuhi           |\n",
    "|                 |                                                                             | `x = 3` <br> `x >= 5 or x <= 0`             | Akan mengembalikan nilai `False` karena kedua kondisi tidak terpenuhi      |\n",
    "| `not`           | Negasi - menerima sebuah nilai kebenaran dan mengembalikan komplemennya     | `x = 7` <br> `not(x == 7)`                  | Akan mengembalikan nilai `False` karena kondisi `x == 7` benar             |\n",
    "|                 |                                                                             | `not(x >= 10)`                             | Akan mengembalikan nilai `True` karena kondisi `x >= 10` tidak terpenuhi   |"
   ]
  },
  {
   "cell_type": "markdown",
   "metadata": {},
   "source": [
    "Nilai Prioritas Operator dalam Python – Part 1"
   ]
  },
  {
   "cell_type": "code",
   "execution_count": null,
   "metadata": {},
   "outputs": [],
   "source": [
    "# Kode awal\n",
    "total_harga = 150000\n",
    "potongan_harga = 0.3\n",
    "pajak = 0.1 # pajak dalam persen ~ 10%\n",
    "harga_bayar = 1 - potongan_harga # baris pertama\n",
    "harga_bayar *= total_harga # baris kedua\n",
    "pajak_bayar = pajak * harga_bayar # baris ketiga\n",
    "harga_bayar += pajak_bayar # baris ke-4\n",
    "print(\"Kode awal - harga_bayar=\", harga_bayar)\n",
    "# Penyederhanaan baris kode dengan menerapkan prioritas operator\n",
    "total_harga = 150000\n",
    "potongan_harga = 0.3\n",
    "pajak = 0.1 # pajak dalam persen ~ 10%\n",
    "harga_bayar = (1 - potongan_harga) * total_harga #baris pertama \n",
    "harga_bayar += harga_bayar  * pajak # baris kedua\n",
    "print(\"Penyederhanaan kode - harga_bayar=\", harga_bayar)"
   ]
  },
  {
   "cell_type": "code",
   "execution_count": null,
   "metadata": {},
   "outputs": [],
   "source": [
    "bilangan = (5 % 3 ** 2) + (3 + 2 * 2) * (4 - 2) \n",
    "print(bilangan)"
   ]
  },
  {
   "cell_type": "markdown",
   "metadata": {},
   "source": [
    "Tugas Praktek"
   ]
  },
  {
   "cell_type": "code",
   "execution_count": null,
   "metadata": {},
   "outputs": [],
   "source": [
    "sepatu = { \"nama\" : \"Sepatu Niko\", \"harga\": 150000, \"diskon\": 30000 }\n",
    "baju = { \"nama\" : \"Baju Unikloh\", \"harga\": 80000, \"diskon\": 8000 }\n",
    "celana = { \"nama\" : \"Celana Lepis\", \"harga\": 200000, \"diskon\": 60000 }\n",
    "\n",
    "harga_sepatu = sepatu[\"harga\"] - sepatu[\"diskon\"]\n",
    "harga_baju = baju[\"harga\"] - baju[\"diskon\"]\n",
    "harga_celana = celana[\"harga\"] - celana[\"diskon\"]\n",
    "total_harga = (harga_sepatu + harga_baju + harga_celana) * 1.1 \n",
    "\n",
    "print(total_harga)"
   ]
  }
 ],
 "metadata": {
  "kernelspec": {
   "display_name": "Python 3",
   "language": "python",
   "name": "python3"
  },
  "language_info": {
   "name": "python",
   "version": "3.12.0"
  }
 },
 "nbformat": 4,
 "nbformat_minor": 2
}
