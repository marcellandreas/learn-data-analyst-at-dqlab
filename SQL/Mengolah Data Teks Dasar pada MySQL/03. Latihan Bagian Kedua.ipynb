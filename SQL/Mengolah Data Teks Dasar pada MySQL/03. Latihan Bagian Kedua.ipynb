{
 "cells": [
  {
   "cell_type": "markdown",
   "metadata": {},
   "source": [
    "Latihan 1"
   ]
  },
  {
   "cell_type": "code",
   "execution_count": null,
   "metadata": {
    "vscode": {
     "languageId": "plaintext"
    }
   },
   "outputs": [],
   "source": [
    "SELECT \n",
    "    CONCAT_WS(' - ',\n",
    "        -- Ekstraksi Kota dari 'isi'\n",
    "        SUBSTR(isi, \n",
    "            LOCATE('|||', isi) + 3, \n",
    "            LOCATE('|||', isi, LOCATE('|||', isi) + 3) - LOCATE('|||', isi) - 3),\n",
    "        -- Ekstraksi Provinsi dari 'isi'\n",
    "        RIGHT(isi, \n",
    "            LENGTH(isi) - LOCATE('|||', isi, LOCATE('|||', isi, LOCATE('|||', isi) + 3) + 3) - 2)\n",
    "    ) AS TempatLahir\n",
    "FROM dqlabdatateks;\n"
   ]
  },
  {
   "cell_type": "markdown",
   "metadata": {},
   "source": [
    "Latihan 2"
   ]
  },
  {
   "cell_type": "code",
   "execution_count": null,
   "metadata": {
    "vscode": {
     "languageId": "plaintext"
    }
   },
   "outputs": [],
   "source": [
    "SELECT \n",
    "    LEFT(\n",
    "        -- Ekstraksi tanggal lahir dari 'isi'\n",
    "        SUBSTR(isi, \n",
    "            LOCATE('|||', isi, LOCATE('|||', isi) + 3) + 3, \n",
    "            LOCATE('|||', isi, LOCATE('|||', isi, LOCATE('|||', isi) + 3) + 3) - LOCATE('|||', isi, LOCATE('|||', isi) + 3) - 3\n",
    "        ), \n",
    "        2  -- Mengambil 2 karakter pertama (hari)\n",
    "    ) AS DD\n",
    "FROM dqlabdatateks;\n"
   ]
  },
  {
   "cell_type": "markdown",
   "metadata": {},
   "source": [
    "Latihan 3"
   ]
  },
  {
   "cell_type": "code",
   "execution_count": null,
   "metadata": {
    "vscode": {
     "languageId": "plaintext"
    }
   },
   "outputs": [],
   "source": [
    "SELECT \n",
    "    RIGHT(\n",
    "        -- Ekstraksi tanggal lahir dari 'isi'\n",
    "        SUBSTR(isi, \n",
    "            LOCATE('|||', isi, LOCATE('|||', isi) + 1) + 3, \n",
    "            LOCATE('|||', isi, LOCATE('|||', isi, LOCATE('|||', isi) + 1) + 1) - LOCATE('|||', isi, LOCATE('|||', isi) + 1) - 3\n",
    "        ), \n",
    "        4  -- Mengambil 4 karakter terakhir (tahun)\n",
    "    ) AS YYYY\n",
    "FROM dqlabdatateks;\n"
   ]
  },
  {
   "cell_type": "markdown",
   "metadata": {},
   "source": [
    "Latihan 4"
   ]
  },
  {
   "cell_type": "code",
   "execution_count": null,
   "metadata": {
    "vscode": {
     "languageId": "plaintext"
    }
   },
   "outputs": [],
   "source": [
    "SELECT \n",
    "    SUBSTR(\n",
    "        SUBSTR(\n",
    "            isi, \n",
    "            -- Menentukan posisi awal untuk mengekstrak tanggal (DD)\n",
    "            LOCATE('|||', isi, LOCATE('|||', isi) + 1) + 3, \n",
    "            -- Menghitung panjang substring dari DD hingga bulan\n",
    "            LOCATE('|||', isi, LOCATE('|||', isi, LOCATE('|||', isi) + 1) + 1) - \n",
    "            LOCATE('|||', isi, LOCATE('|||', isi) + 1) - 3\n",
    "        ), \n",
    "        4,  -- Mengambil substring dari karakter ke-4 untuk mendapatkan nama bulan\n",
    "        -- Menghitung panjang substring untuk mengambil sisa karakter setelah DD\n",
    "        LENGTH(SUBSTR(\n",
    "            isi, \n",
    "            LOCATE('|||', isi, LOCATE('|||', isi) + 1) + 3, \n",
    "            LOCATE('|||', isi, LOCATE('|||', isi, LOCATE('|||', isi) + 1) + 1) - \n",
    "            LOCATE('|||', isi, LOCATE('|||', isi) + 1) - 3\n",
    "        )) - 8  -- Mengurangi panjang total untuk mendapatkan hanya nama bulan\n",
    "    ) AS Bulan  -- Menampilkan hasil sebagai kolom 'Bulan'\n",
    "FROM \n",
    "    dqlabdatateks;  -- Mengambil data dari tabel dqlabdatateks\n"
   ]
  },
  {
   "cell_type": "markdown",
   "metadata": {},
   "source": [
    "Latihan 5"
   ]
  },
  {
   "cell_type": "code",
   "execution_count": null,
   "metadata": {
    "vscode": {
     "languageId": "plaintext"
    }
   },
   "outputs": [],
   "source": [
    "SELECT CASE\n",
    "    WHEN SUBSTR(SUBSTR(isi, LOCATE('|||', isi, LOCATE('|||', isi) + 1) + 3, LOCATE('|||', isi, LOCATE('|||', isi, LOCATE('|||', isi) + 1) + 1) - LOCATE('|||', isi, LOCATE('|||', isi) + 1) - 3), 4, LENGTH(SUBSTR(isi, LOCATE('|||', isi, LOCATE('|||', isi) + 1) + 3, LOCATE('|||', isi, LOCATE('|||', isi, LOCATE('|||', isi) + 1) + 1) - LOCATE('|||', isi, LOCATE('|||', isi) + 1) - 3)) - 8) = 'Januari'\n",
    "    THEN '01'\n",
    "    \n",
    "    WHEN SUBSTR(SUBSTR(isi, LOCATE('|||', isi, LOCATE('|||', isi) + 1) + 3, LOCATE('|||', isi, LOCATE('|||', isi, LOCATE('|||', isi) + 1) + 1) - LOCATE('|||', isi, LOCATE('|||', isi) + 1) - 3), 4, LENGTH(SUBSTR(isi, LOCATE('|||', isi, LOCATE('|||', isi) + 1) + 3, LOCATE('|||', isi, LOCATE('|||', isi, LOCATE('|||', isi) + 1) + 1) - LOCATE('|||', isi, LOCATE('|||', isi) + 1) - 3)) - 8) = 'Februari'\n",
    "    THEN '02'\n",
    "    \n",
    "    ELSE '00'\n",
    "END AS MM \n",
    "FROM dqlabdatateks;\n"
   ]
  }
 ],
 "metadata": {
  "language_info": {
   "name": "python"
  }
 },
 "nbformat": 4,
 "nbformat_minor": 2
}
