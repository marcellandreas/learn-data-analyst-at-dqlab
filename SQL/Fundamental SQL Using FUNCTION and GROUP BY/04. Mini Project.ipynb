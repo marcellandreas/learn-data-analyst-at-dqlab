{
 "cells": [
  {
   "cell_type": "markdown",
   "metadata": {},
   "source": [
    "Proyek Pekerjaan - Analisis Penjualan Part 1"
   ]
  },
  {
   "cell_type": "code",
   "execution_count": null,
   "metadata": {
    "vscode": {
     "languageId": "plaintext"
    }
   },
   "outputs": [],
   "source": [
    "## 1. Total jumlah seluruh penjualan (total/revenue).\n",
    "SELECT SUM(total) as total \n",
    "FROM tr_penjualan;\n",
    "## 2. Total quantity seluruh produk yang terjual.\n",
    "SELECT SUM(qty) as qty \n",
    "FROM tr_penjualan;\n",
    "## 3. Total quantity dan total revenue untuk setiap kode produk.\n",
    "SELECT kode_produk, SUM(qty) as qty, SUM(total) as total \n",
    "FROM tr_penjualan\n",
    "GROUP BY kode_produk;"
   ]
  },
  {
   "cell_type": "markdown",
   "metadata": {},
   "source": [
    "Proyek Pekerjaan - Analisis Penjualan Part 2"
   ]
  },
  {
   "cell_type": "code",
   "execution_count": null,
   "metadata": {
    "vscode": {
     "languageId": "plaintext"
    }
   },
   "outputs": [],
   "source": [
    "## 4. Rata - Rata total belanja per kode pelanggan.\n",
    "SELECT kode_pelanggan, AVG(total) as avg_total \n",
    "FROM tr_penjualan\n",
    "GROUP BY kode_pelanggan;\n",
    "## 5. Selain itu,  jangan lupa untuk menambahkan kolom baru dengan nama ‘kategori’ yang mengkategorikan total/revenue ke dalam 3 kategori: High: > 300K; Medium: 100K - 300K; Low: <100K.\n",
    "SELECT kode_transaksi,kode_pelanggan,no_urut,kode_produk, nama_produk, qty, total,\n",
    "CASE  \n",
    "    WHEN total > 300000 THEN 'High'\n",
    "    WHEN total < 100000 THEN 'Low'   \n",
    "    ELSE 'Medium'  \n",
    "END as 'kategori' \n",
    "FROM tr_penjualan;"
   ]
  }
 ],
 "metadata": {
  "language_info": {
   "name": "python"
  }
 },
 "nbformat": 4,
 "nbformat_minor": 2
}
