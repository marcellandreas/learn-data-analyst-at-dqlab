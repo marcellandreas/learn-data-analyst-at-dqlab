{
 "cells": [
  {
   "cell_type": "markdown",
   "metadata": {},
   "source": [
    "Fungsi Aggregate - SUM()"
   ]
  },
  {
   "cell_type": "code",
   "execution_count": null,
   "metadata": {
    "vscode": {
     "languageId": "plaintext"
    }
   },
   "outputs": [],
   "source": [
    "SELECT SUM(Semester1) as Total_1, SUM(Semester2) as Total_2 FROM students;"
   ]
  },
  {
   "cell_type": "markdown",
   "metadata": {},
   "source": [
    "Fungsi Aggregate - COUNT()"
   ]
  },
  {
   "cell_type": "code",
   "execution_count": null,
   "metadata": {
    "vscode": {
     "languageId": "plaintext"
    }
   },
   "outputs": [],
   "source": [
    "SELECT COUNT(FirstName) as Total_Student FROM students;"
   ]
  },
  {
   "cell_type": "markdown",
   "metadata": {},
   "source": [
    "Fungsi Aggregate - AVG( )"
   ]
  },
  {
   "cell_type": "code",
   "execution_count": null,
   "metadata": {
    "vscode": {
     "languageId": "plaintext"
    }
   },
   "outputs": [],
   "source": [
    "SELECT AVG(Semester1) as AVG_1, AVG(Semester2) as AVG_2 FROM students;"
   ]
  },
  {
   "cell_type": "markdown",
   "metadata": {},
   "source": [
    "Tugas Praktik Aggregate"
   ]
  },
  {
   "cell_type": "code",
   "execution_count": null,
   "metadata": {
    "vscode": {
     "languageId": "plaintext"
    }
   },
   "outputs": [],
   "source": [
    "SELECT MIN(Semester1) as Min1, Max(Semester1) as Max1, MIN(Semester2) as Min2, MAX(Semester2) as Max2 FROM students;"
   ]
  },
  {
   "cell_type": "markdown",
   "metadata": {},
   "source": [
    "==========================================================================="
   ]
  },
  {
   "cell_type": "markdown",
   "metadata": {},
   "source": [
    "Group by Single Column"
   ]
  },
  {
   "cell_type": "code",
   "execution_count": null,
   "metadata": {
    "vscode": {
     "languageId": "plaintext"
    }
   },
   "outputs": [],
   "source": [
    "SELECT province, \n",
    "COUNT(DISTINCT order_id) as total_order, \n",
    "SUM(item_price) as total_price \n",
    "FROM sales_retail_2019 \n",
    "GROUP BY province;"
   ]
  },
  {
   "cell_type": "markdown",
   "metadata": {},
   "source": [
    "Group by Multiple Column"
   ]
  },
  {
   "cell_type": "code",
   "execution_count": null,
   "metadata": {
    "vscode": {
     "languageId": "plaintext"
    }
   },
   "outputs": [],
   "source": [
    "SELECT province,\n",
    "brand,\n",
    "COUNT(DISTINCT order_id) as total_order, \n",
    "SUM(item_price) as total_price \n",
    "FROM sales_retail_2019 \n",
    "GROUP BY province, brand;"
   ]
  },
  {
   "cell_type": "markdown",
   "metadata": {},
   "source": [
    "Fungsi Aggregate dengan Grouping"
   ]
  },
  {
   "cell_type": "code",
   "execution_count": null,
   "metadata": {
    "vscode": {
     "languageId": "plaintext"
    }
   },
   "outputs": [],
   "source": [
    "SELECT province, \n",
    "COUNT(DISTINCT order_id) AS total_unique_order, \n",
    "SUM(item_price) AS revenue \n",
    "FROM sales_retail_2019 \n",
    "GROUP BY province;"
   ]
  },
  {
   "cell_type": "markdown",
   "metadata": {},
   "source": [
    "Tugas Praktek"
   ]
  },
  {
   "cell_type": "code",
   "execution_count": null,
   "metadata": {
    "vscode": {
     "languageId": "plaintext"
    }
   },
   "outputs": [],
   "source": [
    "SELECT MONTH(order_date) AS order_month, SUM(item_price) AS total_price, \n",
    "CASE  \n",
    "    WHEN SUM(item_price) >= 30000000000 THEN 'Target Achieved'\n",
    "    WHEN SUM(item_price) <= 25000000000 THEN 'Less Performed'\n",
    "    ELSE 'Follow Up'\n",
    "END as remark\n",
    "FROM sales_retail_2019\n",
    "GROUP BY MONTH(order_date);"
   ]
  }
 ],
 "metadata": {
  "language_info": {
   "name": "python"
  }
 },
 "nbformat": 4,
 "nbformat_minor": 2
}
