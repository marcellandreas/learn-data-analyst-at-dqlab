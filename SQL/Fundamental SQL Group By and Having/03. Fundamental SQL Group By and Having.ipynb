{
 "cells": [
  {
   "cell_type": "markdown",
   "metadata": {},
   "source": [
    "Penggunaan Fungsi MAX pada Having"
   ]
  },
  {
   "cell_type": "code",
   "execution_count": null,
   "metadata": {
    "vscode": {
     "languageId": "plaintext"
    }
   },
   "outputs": [],
   "source": [
    "SELECT product_id, MAX(total_price) as total FROM invoice GROUP BY product_id;\n",
    "\n",
    "SELECT product_id, MAX(total_price) as total FROM invoice GROUP BY product_id HAVING MAX(total_price) > 1000000;\n",
    "\n",
    "SELECT product_id, MAX(pinalty) as total FROM invoice GROUP BY product_id HAVING MAX(pinalty) > 30000;"
   ]
  },
  {
   "cell_type": "markdown",
   "metadata": {},
   "source": [
    "Penggunaan Fungsi MIN pada Having"
   ]
  },
  {
   "cell_type": "code",
   "execution_count": null,
   "metadata": {
    "vscode": {
     "languageId": "plaintext"
    }
   },
   "outputs": [],
   "source": [
    "SELECT product_id, MIN(total_price) AS total FROM invoice GROUP BY product_id;\n",
    "\n",
    "SELECT product_id, MIN(total_price) AS total FROM invoice GROUP BY product_id HAVING MIN(total_price) < 500000;\n",
    "\n",
    "SELECT product_id, MIN(pinalty) AS total FROM invoice GROUP BY product_id HAVING MIN(pinalty) < 50000;"
   ]
  },
  {
   "cell_type": "markdown",
   "metadata": {},
   "source": [
    "Penggunaan Fungsi AVG di Having"
   ]
  },
  {
   "cell_type": "code",
   "execution_count": null,
   "metadata": {
    "vscode": {
     "languageId": "plaintext"
    }
   },
   "outputs": [],
   "source": [
    "SELECT product_id, AVG(total_price) AS total FROM invoice GROUP BY product_id;\n",
    "\n",
    "SELECT product_id, AVG(total_price) AS total FROM invoice GROUP BY product_id HAVING AVG(total_price) > 100000;\n",
    "\n",
    "SELECT product_id, AVG(pinalty) AS total FROM invoice GROUP BY product_id HAVING AVG(pinalty) > 30000;"
   ]
  },
  {
   "cell_type": "markdown",
   "metadata": {},
   "source": [
    "Mini Quiz"
   ]
  },
  {
   "cell_type": "code",
   "execution_count": null,
   "metadata": {
    "vscode": {
     "languageId": "plaintext"
    }
   },
   "outputs": [],
   "source": [
    "SELECT product_id, AVG(pinalty), COUNT(customer_id) \n",
    "AS total\n",
    "FROM invoice \n",
    "GROUP BY product_id \n",
    "HAVING COUNT(customer_id) > 20;"
   ]
  }
 ],
 "metadata": {
  "language_info": {
   "name": "python"
  }
 },
 "nbformat": 4,
 "nbformat_minor": 2
}
