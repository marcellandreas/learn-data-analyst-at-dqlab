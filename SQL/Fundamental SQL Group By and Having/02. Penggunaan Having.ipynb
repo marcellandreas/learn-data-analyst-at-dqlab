{
 "cells": [
  {
   "cell_type": "markdown",
   "metadata": {},
   "source": [
    "### Untuk apa Having digunakan dalam query\n",
    "HAVING digunakan untuk menggantikan WHERE ketika menggunakan Group BY \n",
    "yang datanya di aggregasi.\n",
    "\n",
    "```sql\n",
    "SELECT nama_kolom\n",
    "FROM nama_table\n",
    "GROUP BY nama_kolom\n",
    "HAVING kondisi\n",
    "```"
   ]
  },
  {
   "cell_type": "markdown",
   "metadata": {},
   "source": [
    "Contoh penggunaan HAVING"
   ]
  },
  {
   "cell_type": "code",
   "execution_count": null,
   "metadata": {
    "vscode": {
     "languageId": "plaintext"
    }
   },
   "outputs": [],
   "source": [
    "SELECT customer_id FROM Subscription GROUP BY customer_id HAVING COUNT(customer_id) >1;"
   ]
  },
  {
   "cell_type": "markdown",
   "metadata": {},
   "source": [
    "Menampilkan Konsumen yang berubah berlangganan"
   ]
  },
  {
   "cell_type": "code",
   "execution_count": null,
   "metadata": {
    "vscode": {
     "languageId": "plaintext"
    }
   },
   "outputs": [],
   "source": [
    "SELECT \n",
    "\tcustomer_id,\n",
    "    product_id,\n",
    "    subscription_date\n",
    "FROM Subscription \n",
    "WHERE customer_id IN \n",
    "\t(SELECT \n",
    "    \tcustomer_id \n",
    "     FROM Subscription \n",
    "     GROUP BY customer_id \n",
    "     HAVING COUNT(customer_id) > 1\n",
    "  \t) \n",
    "ORDER BY customer_id ASC;"
   ]
  },
  {
   "cell_type": "markdown",
   "metadata": {},
   "source": [
    "Menampilkan detail konsumen"
   ]
  },
  {
   "cell_type": "code",
   "execution_count": null,
   "metadata": {
    "vscode": {
     "languageId": "plaintext"
    }
   },
   "outputs": [],
   "source": [
    "SELECT b.name,\n",
    "\t   b.address,\n",
    "       b.phone, \n",
    "       a.product_id, \n",
    "       a.subscription_date \n",
    "FROM subscription a \n",
    "JOIN customer b \n",
    "ON a.customer_id=b.id\n",
    "WHERE b.id IN \n",
    "(\n",
    "\tSELECT \n",
    "    \tcustomer_id \n",
    "        FROM Subscription \n",
    "    GROUP BY customer_id \n",
    "    HAVING COUNT(customer_id) > 1\n",
    ") \n",
    "ORDER BY b.id ASC;"
   ]
  }
 ],
 "metadata": {
  "language_info": {
   "name": "python"
  }
 },
 "nbformat": 4,
 "nbformat_minor": 2
}
