{
 "cells": [
  {
   "cell_type": "markdown",
   "metadata": {},
   "source": [
    "Tugas Praktek: Menggunakan INNER JOIN (1/3)"
   ]
  },
  {
   "cell_type": "code",
   "execution_count": null,
   "metadata": {
    "vscode": {
     "languageId": "plaintext"
    }
   },
   "outputs": [],
   "source": [
    "SELECT * FROM ms_item_warna INNER JOIN ms_item_kategori ON ms_item_warna.nama_barang = ms_item_kategori.nama_item;"
   ]
  },
  {
   "cell_type": "markdown",
   "metadata": {},
   "source": [
    "tabel tr_penjualan dan tabel ms_produk"
   ]
  },
  {
   "cell_type": "code",
   "execution_count": null,
   "metadata": {
    "vscode": {
     "languageId": "plaintext"
    }
   },
   "outputs": [],
   "source": [
    "SELECT * FROM tr_penjualan;\n",
    "\n",
    "SELECT * FROM ms_produk;"
   ]
  },
  {
   "cell_type": "markdown",
   "metadata": {},
   "source": [
    "Tugas Praktek: Menggunakan INNER JOIN (2/3)"
   ]
  },
  {
   "cell_type": "code",
   "execution_count": null,
   "metadata": {
    "vscode": {
     "languageId": "plaintext"
    }
   },
   "outputs": [],
   "source": [
    "SELECT * FROM tr_penjualan \n",
    "INNER JOIN ms_produk \n",
    "ON tr_penjualan.kode_produk = ms_produk.kode_produk;"
   ]
  },
  {
   "cell_type": "markdown",
   "metadata": {},
   "source": [
    "Tugas Praktek: Menggunakan INNER JOIN (3/3)"
   ]
  },
  {
   "cell_type": "code",
   "execution_count": null,
   "metadata": {
    "vscode": {
     "languageId": "plaintext"
    }
   },
   "outputs": [],
   "source": [
    "SELECT tr_penjualan.kode_transaksi, \n",
    "tr_penjualan.kode_pelanggan, \n",
    "tr_penjualan.kode_produk,  \n",
    "ms_produk.nama_produk,\n",
    "tr_penjualan.qty,\n",
    "ms_produk.harga,\n",
    "tr_penjualan.qty * ms_produk.harga as total\n",
    "FROM tr_penjualan\n",
    "INNER JOIN ms_produk\n",
    "ON tr_penjualan.kode_produk= ms_produk.kode_produk;"
   ]
  },
  {
   "cell_type": "markdown",
   "metadata": {},
   "source": [
    "Tabel yang Akan Digabungkan"
   ]
  },
  {
   "cell_type": "code",
   "execution_count": null,
   "metadata": {
    "vscode": {
     "languageId": "plaintext"
    }
   },
   "outputs": [],
   "source": [
    "SELECT * FROM tabel_A;\n",
    "\n",
    "SELECT * FROM tabel_B;"
   ]
  },
  {
   "cell_type": "markdown",
   "metadata": {},
   "source": [
    "Menggunakan UNION"
   ]
  },
  {
   "cell_type": "code",
   "execution_count": null,
   "metadata": {
    "vscode": {
     "languageId": "plaintext"
    }
   },
   "outputs": [],
   "source": [
    "SELECT * FROM tabel_A\n",
    "UNION\n",
    "SELECT * FROM tabel_B;"
   ]
  },
  {
   "cell_type": "markdown",
   "metadata": {},
   "source": [
    "Menggunakan UNION dengan Klausa WHERE"
   ]
  },
  {
   "cell_type": "code",
   "execution_count": null,
   "metadata": {
    "vscode": {
     "languageId": "plaintext"
    }
   },
   "outputs": [],
   "source": [
    "SELECT * FROM tabel_A WHERE kode_pelanggan = 'dqlabcust03'\n",
    "UNION\n",
    "SELECT * FROM tabel_B WHERE kode_pelanggan = 'dqlabcust03';"
   ]
  },
  {
   "cell_type": "markdown",
   "metadata": {},
   "source": [
    "Menggunakan UNION dan Menyelaraskan Kolom-Kolomnya."
   ]
  },
  {
   "cell_type": "code",
   "execution_count": null,
   "metadata": {
    "vscode": {
     "languageId": "plaintext"
    }
   },
   "outputs": [],
   "source": [
    "SELECT CustomerName, ContactName, City, PostalCode FROM Customers\n",
    "UNION\n",
    "SELECT SupplierName, ContactName, City, PostalCode FROM Suppliers;"
   ]
  }
 ],
 "metadata": {
  "language_info": {
   "name": "python"
  }
 },
 "nbformat": 4,
 "nbformat_minor": 2
}
