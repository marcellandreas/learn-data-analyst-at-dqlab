{
 "cells": [
  {
   "cell_type": "markdown",
   "metadata": {},
   "source": [
    "Project INNER JOIN"
   ]
  },
  {
   "cell_type": "code",
   "execution_count": null,
   "metadata": {
    "vscode": {
     "languageId": "plaintext"
    }
   },
   "outputs": [],
   "source": [
    "SELECT DISTINCT \n",
    "    ms_pelanggan.kode_pelanggan, \n",
    "    ms_pelanggan.nama_customer, \n",
    "    ms_pelanggan.alamat\n",
    "FROM \n",
    "    ms_pelanggan\n",
    "INNER JOIN \n",
    "    tr_penjualan ON ms_pelanggan.kode_pelanggan = tr_penjualan.kode_pelanggan \n",
    "WHERE \n",
    "    tr_penjualan.nama_produk IN ('Kotak Pensil DQLab', 'Flashdisk DQLab 32 GB', 'Sticky Notes DQLab 500 sheets');"
   ]
  },
  {
   "cell_type": "markdown",
   "metadata": {},
   "source": [
    "Project UNION"
   ]
  },
  {
   "cell_type": "code",
   "execution_count": null,
   "metadata": {
    "vscode": {
     "languageId": "plaintext"
    }
   },
   "outputs": [],
   "source": [
    "SELECT\n",
    "    nama_produk,\n",
    "    kode_produk,\n",
    "    harga\n",
    "FROM\n",
    "    ms_produk_1\n",
    "WHERE\n",
    "    harga < 100000\n",
    "UNION\n",
    "SELECT\n",
    "    nama_produk,\n",
    "    kode_produk,\n",
    "    harga\n",
    "FROM\n",
    "    ms_produk_2\n",
    "WHERE\n",
    "    harga < 50000;"
   ]
  }
 ],
 "metadata": {
  "language_info": {
   "name": "python"
  }
 },
 "nbformat": 4,
 "nbformat_minor": 2
}
