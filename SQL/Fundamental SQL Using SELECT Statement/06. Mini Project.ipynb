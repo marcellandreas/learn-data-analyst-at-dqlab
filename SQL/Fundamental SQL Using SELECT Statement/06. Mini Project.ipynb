{
 "cells": [
  {
   "cell_type": "markdown",
   "metadata": {},
   "source": [
    "Proyek dari Cabang A"
   ]
  },
  {
   "cell_type": "code",
   "execution_count": null,
   "metadata": {
    "vscode": {
     "languageId": "plaintext"
    }
   },
   "outputs": [],
   "source": [
    "SELECT kode_pelanggan, nama_produk, qty, harga, qty * harga AS total\n",
    "FROM tr_penjualan\n",
    "WHERE qty * harga >= 100000 order by total desc"
   ]
  }
 ],
 "metadata": {
  "language_info": {
   "name": "python"
  }
 },
 "nbformat": 4,
 "nbformat_minor": 2
}
